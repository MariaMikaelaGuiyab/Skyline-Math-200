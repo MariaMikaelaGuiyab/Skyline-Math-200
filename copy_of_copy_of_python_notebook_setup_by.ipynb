{
  "nbformat": 4,
  "nbformat_minor": 0,
  "metadata": {
    "colab": {
      "provenance": [],
      "include_colab_link": true
    },
    "kernelspec": {
      "name": "python3",
      "display_name": "Python 3"
    },
    "language_info": {
      "name": "python"
    }
  },
  "cells": [
    {
      "cell_type": "markdown",
      "metadata": {
        "id": "view-in-github",
        "colab_type": "text"
      },
      "source": [
        "<a href=\"https://colab.research.google.com/github/MariaMikaelaGuiyab/Skyline-Math-200/blob/main/copy_of_copy_of_python_notebook_setup_by.ipynb\" target=\"_parent\"><img src=\"https://colab.research.google.com/assets/colab-badge.svg\" alt=\"Open In Colab\"/></a>"
      ]
    },
    {
      "cell_type": "markdown",
      "source": [
        "Research Question # __ : Include question here"
      ],
      "metadata": {
        "id": "RaflRRFg5e8L"
      }
    },
    {
      "cell_type": "code",
      "execution_count": null,
      "metadata": {
        "id": "U2T9urK-5ZAe"
      },
      "outputs": [],
      "source": [
        "import pandas as pd\n",
        "import matplotlib.pyplot as plt\n",
        "import seaborn as sns"
      ]
    },
    {
      "cell_type": "code",
      "source": [
        "url='https://drive.google.com/file/d/1IbHzUMYKFBkmW3TIvryP7XJlW-WkmGEw/view?usp=sharing'\n",
        "path= 'https://drive.google.com/uc?export=download&id='+url.split('/')[-2]\n",
        "df = pd.read_csv(path)\n",
        "df.head()"
      ],
      "metadata": {
        "id": "Hq7jBgXZ5p7g",
        "colab": {
          "base_uri": "https://localhost:8080/",
          "height": 300
        },
        "outputId": "698d9031-28f0-424d-b3ea-6c697572e69f"
      },
      "execution_count": null,
      "outputs": [
        {
          "output_type": "execute_result",
          "data": {
            "text/plain": [
              "       AID  BIO_SEX        agew1 IMONTH4 IDAY4 IYEAR4   MACNO4 INTID4  \\\n",
              "0  5710027        2                                                     \n",
              "1  5710131        2  19.42739726       5     6   2008  2288160    160   \n",
              "2  5710317        1                                                     \n",
              "3  5710386        1  20.43013699       5    22   2008  2288238    238   \n",
              "4  5710455        2                                                     \n",
              "\n",
              "  BIO_SEX4 VERSION4  ... H4EO5C H4EO5D H4EO5E H4EO5F H4EO5G H4EO5H H4EO5I  \\\n",
              "0                    ...                                                    \n",
              "1        2     V5.4  ...      0      0      0      0      0      0      0   \n",
              "2                    ...                                                    \n",
              "3        1     V5.4  ...      0      0      0      0      0      0      0   \n",
              "4                    ...                                                    \n",
              "\n",
              "  H4EO5J H4EO6 H4EO7  \n",
              "0                     \n",
              "1      0     2     1  \n",
              "2                     \n",
              "3      0     4     1  \n",
              "4                     \n",
              "\n",
              "[5 rows x 976 columns]"
            ],
            "text/html": [
              "\n",
              "  <div id=\"df-404ea664-42b5-4d65-87f6-ba684284611c\">\n",
              "    <div class=\"colab-df-container\">\n",
              "      <div>\n",
              "<style scoped>\n",
              "    .dataframe tbody tr th:only-of-type {\n",
              "        vertical-align: middle;\n",
              "    }\n",
              "\n",
              "    .dataframe tbody tr th {\n",
              "        vertical-align: top;\n",
              "    }\n",
              "\n",
              "    .dataframe thead th {\n",
              "        text-align: right;\n",
              "    }\n",
              "</style>\n",
              "<table border=\"1\" class=\"dataframe\">\n",
              "  <thead>\n",
              "    <tr style=\"text-align: right;\">\n",
              "      <th></th>\n",
              "      <th>AID</th>\n",
              "      <th>BIO_SEX</th>\n",
              "      <th>agew1</th>\n",
              "      <th>IMONTH4</th>\n",
              "      <th>IDAY4</th>\n",
              "      <th>IYEAR4</th>\n",
              "      <th>MACNO4</th>\n",
              "      <th>INTID4</th>\n",
              "      <th>BIO_SEX4</th>\n",
              "      <th>VERSION4</th>\n",
              "      <th>...</th>\n",
              "      <th>H4EO5C</th>\n",
              "      <th>H4EO5D</th>\n",
              "      <th>H4EO5E</th>\n",
              "      <th>H4EO5F</th>\n",
              "      <th>H4EO5G</th>\n",
              "      <th>H4EO5H</th>\n",
              "      <th>H4EO5I</th>\n",
              "      <th>H4EO5J</th>\n",
              "      <th>H4EO6</th>\n",
              "      <th>H4EO7</th>\n",
              "    </tr>\n",
              "  </thead>\n",
              "  <tbody>\n",
              "    <tr>\n",
              "      <th>0</th>\n",
              "      <td>5710027</td>\n",
              "      <td>2</td>\n",
              "      <td></td>\n",
              "      <td></td>\n",
              "      <td></td>\n",
              "      <td></td>\n",
              "      <td></td>\n",
              "      <td></td>\n",
              "      <td></td>\n",
              "      <td></td>\n",
              "      <td>...</td>\n",
              "      <td></td>\n",
              "      <td></td>\n",
              "      <td></td>\n",
              "      <td></td>\n",
              "      <td></td>\n",
              "      <td></td>\n",
              "      <td></td>\n",
              "      <td></td>\n",
              "      <td></td>\n",
              "      <td></td>\n",
              "    </tr>\n",
              "    <tr>\n",
              "      <th>1</th>\n",
              "      <td>5710131</td>\n",
              "      <td>2</td>\n",
              "      <td>19.42739726</td>\n",
              "      <td>5</td>\n",
              "      <td>6</td>\n",
              "      <td>2008</td>\n",
              "      <td>2288160</td>\n",
              "      <td>160</td>\n",
              "      <td>2</td>\n",
              "      <td>V5.4</td>\n",
              "      <td>...</td>\n",
              "      <td>0</td>\n",
              "      <td>0</td>\n",
              "      <td>0</td>\n",
              "      <td>0</td>\n",
              "      <td>0</td>\n",
              "      <td>0</td>\n",
              "      <td>0</td>\n",
              "      <td>0</td>\n",
              "      <td>2</td>\n",
              "      <td>1</td>\n",
              "    </tr>\n",
              "    <tr>\n",
              "      <th>2</th>\n",
              "      <td>5710317</td>\n",
              "      <td>1</td>\n",
              "      <td></td>\n",
              "      <td></td>\n",
              "      <td></td>\n",
              "      <td></td>\n",
              "      <td></td>\n",
              "      <td></td>\n",
              "      <td></td>\n",
              "      <td></td>\n",
              "      <td>...</td>\n",
              "      <td></td>\n",
              "      <td></td>\n",
              "      <td></td>\n",
              "      <td></td>\n",
              "      <td></td>\n",
              "      <td></td>\n",
              "      <td></td>\n",
              "      <td></td>\n",
              "      <td></td>\n",
              "      <td></td>\n",
              "    </tr>\n",
              "    <tr>\n",
              "      <th>3</th>\n",
              "      <td>5710386</td>\n",
              "      <td>1</td>\n",
              "      <td>20.43013699</td>\n",
              "      <td>5</td>\n",
              "      <td>22</td>\n",
              "      <td>2008</td>\n",
              "      <td>2288238</td>\n",
              "      <td>238</td>\n",
              "      <td>1</td>\n",
              "      <td>V5.4</td>\n",
              "      <td>...</td>\n",
              "      <td>0</td>\n",
              "      <td>0</td>\n",
              "      <td>0</td>\n",
              "      <td>0</td>\n",
              "      <td>0</td>\n",
              "      <td>0</td>\n",
              "      <td>0</td>\n",
              "      <td>0</td>\n",
              "      <td>4</td>\n",
              "      <td>1</td>\n",
              "    </tr>\n",
              "    <tr>\n",
              "      <th>4</th>\n",
              "      <td>5710455</td>\n",
              "      <td>2</td>\n",
              "      <td></td>\n",
              "      <td></td>\n",
              "      <td></td>\n",
              "      <td></td>\n",
              "      <td></td>\n",
              "      <td></td>\n",
              "      <td></td>\n",
              "      <td></td>\n",
              "      <td>...</td>\n",
              "      <td></td>\n",
              "      <td></td>\n",
              "      <td></td>\n",
              "      <td></td>\n",
              "      <td></td>\n",
              "      <td></td>\n",
              "      <td></td>\n",
              "      <td></td>\n",
              "      <td></td>\n",
              "      <td></td>\n",
              "    </tr>\n",
              "  </tbody>\n",
              "</table>\n",
              "<p>5 rows × 976 columns</p>\n",
              "</div>\n",
              "      <button class=\"colab-df-convert\" onclick=\"convertToInteractive('df-404ea664-42b5-4d65-87f6-ba684284611c')\"\n",
              "              title=\"Convert this dataframe to an interactive table.\"\n",
              "              style=\"display:none;\">\n",
              "        \n",
              "  <svg xmlns=\"http://www.w3.org/2000/svg\" height=\"24px\"viewBox=\"0 0 24 24\"\n",
              "       width=\"24px\">\n",
              "    <path d=\"M0 0h24v24H0V0z\" fill=\"none\"/>\n",
              "    <path d=\"M18.56 5.44l.94 2.06.94-2.06 2.06-.94-2.06-.94-.94-2.06-.94 2.06-2.06.94zm-11 1L8.5 8.5l.94-2.06 2.06-.94-2.06-.94L8.5 2.5l-.94 2.06-2.06.94zm10 10l.94 2.06.94-2.06 2.06-.94-2.06-.94-.94-2.06-.94 2.06-2.06.94z\"/><path d=\"M17.41 7.96l-1.37-1.37c-.4-.4-.92-.59-1.43-.59-.52 0-1.04.2-1.43.59L10.3 9.45l-7.72 7.72c-.78.78-.78 2.05 0 2.83L4 21.41c.39.39.9.59 1.41.59.51 0 1.02-.2 1.41-.59l7.78-7.78 2.81-2.81c.8-.78.8-2.07 0-2.86zM5.41 20L4 18.59l7.72-7.72 1.47 1.35L5.41 20z\"/>\n",
              "  </svg>\n",
              "      </button>\n",
              "      \n",
              "  <style>\n",
              "    .colab-df-container {\n",
              "      display:flex;\n",
              "      flex-wrap:wrap;\n",
              "      gap: 12px;\n",
              "    }\n",
              "\n",
              "    .colab-df-convert {\n",
              "      background-color: #E8F0FE;\n",
              "      border: none;\n",
              "      border-radius: 50%;\n",
              "      cursor: pointer;\n",
              "      display: none;\n",
              "      fill: #1967D2;\n",
              "      height: 32px;\n",
              "      padding: 0 0 0 0;\n",
              "      width: 32px;\n",
              "    }\n",
              "\n",
              "    .colab-df-convert:hover {\n",
              "      background-color: #E2EBFA;\n",
              "      box-shadow: 0px 1px 2px rgba(60, 64, 67, 0.3), 0px 1px 3px 1px rgba(60, 64, 67, 0.15);\n",
              "      fill: #174EA6;\n",
              "    }\n",
              "\n",
              "    [theme=dark] .colab-df-convert {\n",
              "      background-color: #3B4455;\n",
              "      fill: #D2E3FC;\n",
              "    }\n",
              "\n",
              "    [theme=dark] .colab-df-convert:hover {\n",
              "      background-color: #434B5C;\n",
              "      box-shadow: 0px 1px 3px 1px rgba(0, 0, 0, 0.15);\n",
              "      filter: drop-shadow(0px 1px 2px rgba(0, 0, 0, 0.3));\n",
              "      fill: #FFFFFF;\n",
              "    }\n",
              "  </style>\n",
              "\n",
              "      <script>\n",
              "        const buttonEl =\n",
              "          document.querySelector('#df-404ea664-42b5-4d65-87f6-ba684284611c button.colab-df-convert');\n",
              "        buttonEl.style.display =\n",
              "          google.colab.kernel.accessAllowed ? 'block' : 'none';\n",
              "\n",
              "        async function convertToInteractive(key) {\n",
              "          const element = document.querySelector('#df-404ea664-42b5-4d65-87f6-ba684284611c');\n",
              "          const dataTable =\n",
              "            await google.colab.kernel.invokeFunction('convertToInteractive',\n",
              "                                                     [key], {});\n",
              "          if (!dataTable) return;\n",
              "\n",
              "          const docLinkHtml = 'Like what you see? Visit the ' +\n",
              "            '<a target=\"_blank\" href=https://colab.research.google.com/notebooks/data_table.ipynb>data table notebook</a>'\n",
              "            + ' to learn more about interactive tables.';\n",
              "          element.innerHTML = '';\n",
              "          dataTable['output_type'] = 'display_data';\n",
              "          await google.colab.output.renderOutput(dataTable, element);\n",
              "          const docLink = document.createElement('div');\n",
              "          docLink.innerHTML = docLinkHtml;\n",
              "          element.appendChild(docLink);\n",
              "        }\n",
              "      </script>\n",
              "    </div>\n",
              "  </div>\n",
              "  "
            ]
          },
          "metadata": {},
          "execution_count": 11
        }
      ]
    },
    {
      "cell_type": "markdown",
      "source": [
        "Codebook 1: Is there an association between how many cigarettes a day do you smoke and having frequent mood swings? "
      ],
      "metadata": {
        "id": "P2Vacu7L52PB"
      }
    },
    {
      "cell_type": "code",
      "source": [
        "#Manage data for variable 1"
      ],
      "metadata": {
        "id": "wy-eu-5pRuek"
      },
      "execution_count": null,
      "outputs": []
    },
    {
      "cell_type": "code",
      "source": [
        "df['H4TO11'].value_counts()"
      ],
      "metadata": {
        "id": "H_XN0j9jRxqz"
      },
      "execution_count": null,
      "outputs": []
    },
    {
      "cell_type": "code",
      "source": [
        "df['cigars_smoked'] = df['H4TO11']"
      ],
      "metadata": {
        "id": "-pUwNk26RxvM"
      },
      "execution_count": null,
      "outputs": []
    },
    {
      "cell_type": "code",
      "source": [
        "df['cigars_smoked'] = df['cigars_smoked'].loc[ df['cigars_smoked'] !=' ']\n",
        "df['cigars_smoked'] = df['cigars_smoked'].loc[ df['cigars_smoked'] !='7']\n",
        "df['cigars_smoked'] = df['cigars_smoked'].loc[ df['cigars_smoked'] !='6']\n",
        "df['cigars_smoked'] = df['cigars_smoked'].loc[ df['cigars_smoked'] !='8']\n",
        "df['cigars_smoked'].value_counts()"
      ],
      "metadata": {
        "id": "QNArv5s6Rx0d"
      },
      "execution_count": null,
      "outputs": []
    },
    {
      "cell_type": "code",
      "source": [
        "df['cigars_smoked'].replace(['1','2','3','4'] , ['10fewer','11to20', '21to30', '31more'], inplace = True)\n",
        "df['cigars_smoked'].value_counts()"
      ],
      "metadata": {
        "id": "YBxZg6NSRx4I"
      },
      "execution_count": null,
      "outputs": []
    },
    {
      "cell_type": "code",
      "source": [
        "#Graphs and Tables or statistics"
      ],
      "metadata": {
        "id": "BAnoz6yuRx9e"
      },
      "execution_count": null,
      "outputs": []
    },
    {
      "cell_type": "code",
      "source": [
        "#Basic Pie Chart\n",
        "df['cigars_smoked'].value_counts().plot(kind ='pie')"
      ],
      "metadata": {
        "id": "pqVKErJxRyBA"
      },
      "execution_count": null,
      "outputs": []
    },
    {
      "cell_type": "code",
      "source": [
        "#Starting Angle is 90 degrees\n",
        "df['cigars_smoked'].value_counts().plot(kind ='pie',startangle = 90)"
      ],
      "metadata": {
        "id": "H0vVgDKsRyd2"
      },
      "execution_count": null,
      "outputs": []
    },
    {
      "cell_type": "code",
      "source": [
        "#Add labels\n",
        "df['cigars_smoked'].value_counts().plot(kind ='pie', autopct='%1.1f%%')"
      ],
      "metadata": {
        "id": "Jpg7XUxRRyix"
      },
      "execution_count": null,
      "outputs": []
    },
    {
      "cell_type": "code",
      "source": [
        "#Add titles\n",
        "plt.title(\"How many cigarettes a day do you smoke?\")\n",
        "df['cigars_smoked'].value_counts().plot(kind ='pie', autopct='%1.1f%%', colors=['olivedrab', 'rosybrown', 'gray', 'saddlebrown'])"
      ],
      "metadata": {
        "id": "CxY7WgDURypT"
      },
      "execution_count": null,
      "outputs": []
    },
    {
      "cell_type": "code",
      "source": [
        "#Add wall paper\n",
        "plt.title(\"How much does your health now limit you in activities?\")\n",
        "df['cigars_smoked'].value_counts().plot(kind ='pie', autopct='%1.1f%%', hatch=['**O',  '.||.'])"
      ],
      "metadata": {
        "id": "Ram6Il3lRysv"
      },
      "execution_count": null,
      "outputs": []
    },
    {
      "cell_type": "code",
      "source": [
        "#Add explode feature with legend\n",
        "explode = (0.1, 0.1, 0.9,0.1)\n",
        "df['cigars_smoked'].value_counts().plot(kind ='pie', autopct='%1.1f%%',  explode=explode, shadow=True, startangle=90)\n",
        "plt.legend(loc =\"lower left\")"
      ],
      "metadata": {
        "id": "5Oo1GA1sRywu"
      },
      "execution_count": null,
      "outputs": []
    },
    {
      "cell_type": "code",
      "source": [
        "#Basic Bar Chart\n",
        "df['cigars_smoked'].value_counts(normalize = True).plot(kind ='bar')"
      ],
      "metadata": {
        "id": "kEjAUCSTRy0N"
      },
      "execution_count": null,
      "outputs": []
    },
    {
      "cell_type": "code",
      "source": [
        "#Change color and width\n",
        "df['cigars_smoked'].value_counts(normalize = True).plot(kind ='bar', color = 'maroon', width = 0.2)"
      ],
      "metadata": {
        "id": "BS8Jpr6vRy3q"
      },
      "execution_count": null,
      "outputs": []
    },
    {
      "cell_type": "code",
      "source": [
        "#Add title\n",
        "plt.title(\"How many cigarettes do you smoke?\")\n",
        "df['cigars_smoked'].value_counts(normalize = True).plot(kind ='bar', color = 'green', width = 0.2)"
      ],
      "metadata": {
        "id": "p8Es76xpRy7i"
      },
      "execution_count": null,
      "outputs": []
    },
    {
      "cell_type": "code",
      "source": [
        "#Add Axis titles\n",
        "plt.xlabel(\"cigarettes smoked\")\n",
        "plt.ylabel(\"Percent\")\n",
        "plt.title(\"How many cigarettes do you smoke?\")\n",
        "df['cigars_smoked'].value_counts(normalize = True).plot(kind ='bar', color = 'red', width = 0.2, alpha = 0.5)"
      ],
      "metadata": {
        "id": "W-8GPCTDRy_8"
      },
      "execution_count": null,
      "outputs": []
    },
    {
      "cell_type": "code",
      "source": [
        "#horizontal bar graphs\n",
        "plt.xlabel(\"cigarettes smoked\")\n",
        "plt.ylabel(\"Percent\")\n",
        "plt.title(\"How many cigarettes do you smoke?\")\n",
        "df['cigars_smoked'].value_counts(normalize = True).plot(kind ='barh', color = 'red', width = 0.2, alpha = 0.5)"
      ],
      "metadata": {
        "id": "5dWhf5tERzE6"
      },
      "execution_count": null,
      "outputs": []
    },
    {
      "cell_type": "code",
      "source": [
        "# Add GridLines\n",
        "plt.xlabel(\"How many cigarettes do you smoke?\")\n",
        "plt.ylabel(\"Percent\")\n",
        "plt.title(\"How many cigarettes do you smoke??\")\n",
        "df['cigars_smoked'].value_counts(normalize = True).plot(kind ='barh', color = 'red', width = 0.2, alpha = 0.5, grid = True)"
      ],
      "metadata": {
        "id": "qxw93yhUSQ4m"
      },
      "execution_count": null,
      "outputs": []
    },
    {
      "cell_type": "code",
      "source": [
        "#Manage data for variable 2\n",
        "df['H4PE4'].value_counts()"
      ],
      "metadata": {
        "id": "BGXegclY57pS"
      },
      "execution_count": null,
      "outputs": []
    },
    {
      "cell_type": "code",
      "source": [
        "df['mood_swings'] = df['H4PE4']\n"
      ],
      "metadata": {
        "id": "tZW-1Q-wFITd"
      },
      "execution_count": null,
      "outputs": []
    },
    {
      "cell_type": "code",
      "source": [
        "df['mood_swings'].loc[ df['mood_swings'] !=' ']\n",
        "df['mood_swings'] = df['mood_swings'].loc[ df['mood_swings'] !='8']\n",
        "df['mood_swings'] = df['mood_swings'].loc[ df['mood_swings'] !='6']\n",
        "df['mood_swings'].value_counts()"
      ],
      "metadata": {
        "id": "NBTXL-V9FIvq"
      },
      "execution_count": null,
      "outputs": []
    },
    {
      "cell_type": "code",
      "source": [
        "df['mood_swings'].replace(['1','2','3','4','5'] , ['disagree','agree', 'agreenordisagree', 'stronly_disagree','strongly_agree'], inplace = True)\n",
        "df['mood_swings'].value_counts()"
      ],
      "metadata": {
        "id": "0Myv0MoYFI8p"
      },
      "execution_count": null,
      "outputs": []
    },
    {
      "cell_type": "code",
      "source": [
        "#Graphs and tables or statistics\n"
      ],
      "metadata": {
        "id": "Q1Pv5DMz5-2C"
      },
      "execution_count": null,
      "outputs": []
    },
    {
      "cell_type": "code",
      "source": [
        "#Basic Pie Chart\n",
        "df['mood_swings'].value_counts().plot(kind ='pie')"
      ],
      "metadata": {
        "id": "kojtK6arFZSd"
      },
      "execution_count": null,
      "outputs": []
    },
    {
      "cell_type": "code",
      "source": [
        "#Starting Angle is 90 degrees\n",
        "df['mood_swings'].value_counts().plot(kind ='pie',startangle = 90)"
      ],
      "metadata": {
        "id": "uT8N_WxsFZb2"
      },
      "execution_count": null,
      "outputs": []
    },
    {
      "cell_type": "code",
      "source": [
        "#Add labels\n",
        "df['mood_swings'].value_counts().plot(kind ='pie', autopct='%1.1f%%')"
      ],
      "metadata": {
        "id": "ucxkclldFd7l"
      },
      "execution_count": null,
      "outputs": []
    },
    {
      "cell_type": "code",
      "source": [
        "#Add titles\")\n",
        "plt.title(\"I have frequent moodswings\")\n",
        "df['mood_swings'].value_counts().plot(kind ='pie', autopct='%1.1f%%', colors=['olivedrab', 'rosybrown', 'gray', 'saddlebrown'])"
      ],
      "metadata": {
        "id": "bcnVvs4zFgkB"
      },
      "execution_count": null,
      "outputs": []
    },
    {
      "cell_type": "code",
      "source": [
        "#Add wall paper\n",
        "plt.title(\"I have frequent moodswings\")\n",
        "df['mood_swings'].value_counts().plot(kind ='pie', autopct='%1.1f%%', hatch=['**O',  '.||.'])"
      ],
      "metadata": {
        "id": "snnsmWpNFtiM"
      },
      "execution_count": null,
      "outputs": []
    },
    {
      "cell_type": "code",
      "source": [
        "#Add explode feature with legend\n",
        "explode = (0.1, 0.1,0.1,0.4, 0.4)\n",
        "df['mood_swings'].value_counts().plot(kind ='pie', autopct='%1.1f%%',  explode=explode, shadow=True, startangle=90)\n",
        "plt.legend(loc =\"lower left\")"
      ],
      "metadata": {
        "id": "jY29wVbiFtqS"
      },
      "execution_count": null,
      "outputs": []
    },
    {
      "cell_type": "code",
      "source": [
        "#Basic Bar Chart\n",
        "df['mood_swings'].value_counts(normalize = True).plot(kind ='bar')"
      ],
      "metadata": {
        "id": "cqyTCxmlFt0e"
      },
      "execution_count": null,
      "outputs": []
    },
    {
      "cell_type": "code",
      "source": [
        "#Change color and width\n",
        "df['mood_swings'].value_counts(normalize = True).plot(kind ='bar', color = 'maroon', width = 0.2)"
      ],
      "metadata": {
        "id": "LRdMZPsSFt9O"
      },
      "execution_count": null,
      "outputs": []
    },
    {
      "cell_type": "code",
      "source": [
        "#Add title\n",
        "plt.title(\"How many cigarettes do you smoke?\")\n",
        "df['mood_swings'].value_counts(normalize = True).plot(kind ='bar', color = 'green', width = 0.2)"
      ],
      "metadata": {
        "id": "vW9CuSdCGg-u"
      },
      "execution_count": null,
      "outputs": []
    },
    {
      "cell_type": "code",
      "source": [
        "#Add Axis titles\n",
        "plt.xlabel(\"cigarettes smoked\")\n",
        "plt.ylabel(\"Percent\")\n",
        "plt.title(\"How many cigarettes do you smoke?\")\n",
        "df['mood_swings'].value_counts(normalize = True).plot(kind ='bar', color = 'red', width = 0.2, alpha = 0.5)\n"
      ],
      "metadata": {
        "id": "rRfgFtPZGhJ1"
      },
      "execution_count": null,
      "outputs": []
    },
    {
      "cell_type": "code",
      "source": [
        "#horizontal bar graphs\n",
        "plt.xlabel(\"cigarettes smoked\")\n",
        "plt.ylabel(\"Percent\")\n",
        "plt.title(\"How many cigarettes do you smoke?\")\n",
        "df['mood_swings'].value_counts(normalize = True).plot(kind ='barh', color = 'red', width = 0.2, alpha = 0.5)"
      ],
      "metadata": {
        "id": "OxnfKcGpIScr"
      },
      "execution_count": null,
      "outputs": []
    },
    {
      "cell_type": "code",
      "source": [
        " Add GridLines\n",
        "plt.xlabel(\"Do you have moodswings?\")\n",
        "plt.ylabel(\"Percent\")\n",
        "plt.title(\"Do you have moodswings?\")\n",
        "df['mood_swings'].value_counts(normalize = True).plot(kind ='barh', color = 'red', width = 0.2, alpha = 0.5, grid = True)"
      ],
      "metadata": {
        "id": "MatA3cMCISl9"
      },
      "execution_count": null,
      "outputs": []
    }
  ]
}